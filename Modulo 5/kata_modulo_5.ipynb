{
 "cells": [
  {
   "cell_type": "code",
   "execution_count": null,
   "metadata": {},
   "outputs": [],
   "source": [
    "# #  Tierra (149.597.870 km) y Júpiter (778.547.200 km).\n",
    "import math \n",
    "\n",
    "distance_earth = 149597870\n",
    "distance_jupiter = 778547200\n",
    "difference= distance_earth -distance_jupiter\n",
    "miles = difference * 0.621\n",
    "print(abs(difference))\n",
    "print(abs(round(miles)))"
   ]
  },
  {
   "cell_type": "code",
   "execution_count": null,
   "metadata": {},
   "outputs": [],
   "source": [
    "from math import dist\n",
    "\n",
    "\n",
    "planet_one=input(\"Planeta 1: \")\n",
    "planet_two=input(\"planeta 2: \")\n",
    "\n",
    "distance = abs(int(planet_one)- int(planet_two))\n",
    "distancef = distance *.0621\n",
    "\n",
    "print(distance)\n",
    "print(round(distancef))\n"
   ]
  }
 ],
 "metadata": {
  "interpreter": {
   "hash": "836a4b4f38499b82afc2db9ed8d559aec8083ace137109fe8982c41bea11c299"
  },
  "kernelspec": {
   "display_name": "Python 3.10.2 64-bit",
   "language": "python",
   "name": "python3"
  },
  "language_info": {
   "codemirror_mode": {
    "name": "ipython",
    "version": 3
   },
   "file_extension": ".py",
   "mimetype": "text/x-python",
   "name": "python",
   "nbconvert_exporter": "python",
   "pygments_lexer": "ipython3",
   "version": "3.10.2"
  },
  "orig_nbformat": 4
 },
 "nbformat": 4,
 "nbformat_minor": 2
}
