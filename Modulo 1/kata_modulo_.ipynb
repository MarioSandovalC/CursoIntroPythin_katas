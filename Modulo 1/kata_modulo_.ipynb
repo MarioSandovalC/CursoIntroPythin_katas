
{
 "cells": [
  {
   "cell_type": "markdown",
   "metadata": {},
   "source": [
    "Un Programa en Python"
   ]
  },
  {
   "cell_type": "code",
   "execution_count": 3,
   "metadata": {},
   "outputs": [
    {
     "name": "stdout",
     "output_type": "stream",
     "text": [
      "3\n"
     ]
    }
   ],
   "source": [
    "# program.py\n",
    "\n",
    "sum = 1 +2\n",
    "\n",
    "print(sum)"
   ]
  },
  {
   "cell_type": "markdown",
   "metadata": {},
   "source": [
    "Función Print()"
   ]
  },
  {
   "cell_type": "code",
   "execution_count": 4,
   "metadata": {},
   "outputs": [
    {
     "name": "stdout",
     "output_type": "stream",
     "text": [
      "Hola chavos desde la consola\n"
     ]
    }
   ],
   "source": [
    "print('Hola chavos desde la consola')"
   ]
  },
  {
   "cell_type": "markdown",
   "metadata": {},
   "source": [
    "Variables"
   ]
  },
  {
   "cell_type": "code",
   "execution_count": 5,
   "metadata": {},
   "outputs": [
    {
     "name": "stdout",
     "output_type": "stream",
     "text": [
      "6\n"
     ]
    }
   ],
   "source": [
    "sum = 1 + 2 #3\n",
    "product = sum * 2\n",
    "print (product)"
   ]
  },
  {
   "cell_type": "markdown",
   "metadata": {},
   "source": [
    "Tipos de datos"
   ]
  },
  {
   "cell_type": "code",
   "execution_count": 6,
   "metadata": {},
   "outputs": [
    {
     "data": {
      "text/plain": [
       "str"
      ]
     },
     "execution_count": 6,
     "metadata": {},
     "output_type": "execute_result"
    }
   ],
   "source": [
    "planetas_en_el_sistema_solar = 9 # Para mi plutón siempre será un planeta \n",
    "distancia_a_alfa_centauri = 4.367 # float, años luz\n",
    "puede_despegar = True\n",
    "transbordador_que_aterrizo_en_la_luna = \"Apollo 11\" #string\n",
    "\n",
    "type(planetas_en_el_sistema_solar)\n",
    "type(distancia_a_alfa_centauri)\n",
    "type(puede_despegar)\n",
    "type(transbordador_que_aterrizo_en_la_luna)"
   ]
  },
  {
   "cell_type": "markdown",
   "metadata": {},
   "source": [
    "Fechas"
   ]
  },
  {
   "cell_type": "code",
   "execution_count": 7,
   "metadata": {},
   "outputs": [
    {
     "name": "stdout",
     "output_type": "stream",
     "text": [
      "2022-02-08\n"
     ]
    }
   ],
   "source": [
    "#Importar biblioteca date\n",
    "from datetime import date\n",
    "\n",
    "#Obtener fecha de hoy\n",
    "date.today()\n",
    "\n",
    "#Obtener \n",
    "print(date.today())"
   ]
  },
  {
   "cell_type": "markdown",
   "metadata": {},
   "source": [
    "Conversion de Datos"
   ]
  },
  {
   "cell_type": "code",
   "execution_count": 15,
   "metadata": {},
   "outputs": [
    {
     "name": "stdout",
     "output_type": "stream",
     "text": [
      "La fecha de hoy es: 2022-02-08\n"
     ]
    }
   ],
   "source": [
    "print(\"La fecha de hoy es: \" + str(date.today()))"
   ]
  },
  {
   "cell_type": "markdown",
   "metadata": {},
   "source": [
    "Entrada de Datos del usuario"
   ]
  },
  {
   "cell_type": "code",
   "execution_count": 17,
   "metadata": {},
   "outputs": [],
   "source": [
    "print(\"bienvenido al programa de bienvenida a python\")\n",
    "name = input(\"Teclee su nombre: \")\n",
    "print(\"Saludos colega: \"+name)"
   ]
  },
  {
   "cell_type": "code",
   "execution_count": null,
   "metadata": {},
   "outputs": [],
   "source": [
    "print(\"Calculadora\")\n",
    "firstNumber = input(\"Primer número: \")\n",
    "secondNumber = input(\"Segundo número: \")\n",
    "print(int(firstNumber) + int(secondNumber))"
   ]
  }
 ],
 "metadata": {
  "interpreter": {
   "hash": "836a4b4f38499b82afc2db9ed8d559aec8083ace137109fe8982c41bea11c299"
  },
  "kernelspec": {
   "display_name": "Python 3.10.2 64-bit",
   "language": "python",
   "name": "python3"
  },
  "language_info": {
   "codemirror_mode": {
    "name": "ipython",
    "version": 3
   },
   "file_extension": ".py",
   "mimetype": "text/x-python",
   "name": "python",
   "nbconvert_exporter": "python",
   "pygments_lexer": "ipython3",
   "version": "3.10.2"
  },
  "orig_nbformat": 4
 },
 "nbformat": 4,
 "nbformat_minor": 2
}
