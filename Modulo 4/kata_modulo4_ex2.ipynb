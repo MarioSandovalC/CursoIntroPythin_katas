{
 "cells": [
  {
   "cell_type": "code",
   "execution_count": 23,
   "metadata": {},
   "outputs": [],
   "source": [
    "# Datos \n",
    "name = \"Moon\"\n",
    "gravity = 0.00162 # in kms\n",
    "planet = \"Earth\""
   ]
  },
  {
   "cell_type": "code",
   "execution_count": 24,
   "metadata": {},
   "outputs": [
    {
     "name": "stdout",
     "output_type": "stream",
     "text": [
      "Gravity Facts about Moon\n"
     ]
    }
   ],
   "source": [
    "#Titulo\n",
    "\n",
    "titulo = (f'Gravity Facts about {name}')\n",
    "\n",
    "print(titulo)\n"
   ]
  },
  {
   "cell_type": "code",
   "execution_count": 25,
   "metadata": {},
   "outputs": [
    {
     "name": "stdout",
     "output_type": "stream",
     "text": [
      "Gravity Facts about Moon\n",
      "______________________________________________________________\n",
      "Planet Name : Earth\n",
      "Gravity on Moon:  1.6199999999999999\n"
     ]
    }
   ],
   "source": [
    "plantilla=(f\"\"\"{titulo}\n",
    "______________________________________________________________\n",
    "Planet Name : {planet}\n",
    "Gravity on {name}:  {gravity*1000}\"\"\")\n",
    "print(plantilla)"
   ]
  },
  {
   "cell_type": "markdown",
   "metadata": {},
   "source": []
  },
  {
   "cell_type": "code",
   "execution_count": 26,
   "metadata": {},
   "outputs": [
    {
     "name": "stdout",
     "output_type": "stream",
     "text": [
      "Gravity Facts about Moon\n",
      "______________________________________________________________\n",
      "Planet Name : Earth\n",
      "Gravity on Moon:  1.6199999999999999\n"
     ]
    }
   ],
   "source": [
    "name ='Marte'\n",
    "gravity = 0.00143\n",
    "name ='Ganímides'\n",
    "print(plantilla)"
   ]
  },
  {
   "cell_type": "code",
   "execution_count": 41,
   "metadata": {},
   "outputs": [
    {
     "name": "stdout",
     "output_type": "stream",
     "text": [
      "\n",
      "Gravity Facts about Marte\n",
      "______________________________________________________________\n",
      "Planet Name : Ganímides\n",
      "Gravity on Marte:  1.4300000000000002\"\n",
      "\n"
     ]
    }
   ],
   "source": [
    "plantilla_nueva=\"\"\"\n",
    "Gravity Facts about {0}\n",
    "______________________________________________________________\n",
    "Planet Name : {1}\n",
    "Gravity on {2}:  {3}\"\n",
    "\"\"\"\n",
    "\n",
    "print(plantilla_nueva.format(name,planet,name,(gravity*1000)))"
   ]
  }
 ],
 "metadata": {
  "interpreter": {
   "hash": "836a4b4f38499b82afc2db9ed8d559aec8083ace137109fe8982c41bea11c299"
  },
  "kernelspec": {
   "display_name": "Python 3.10.2 64-bit",
   "language": "python",
   "name": "python3"
  },
  "language_info": {
   "codemirror_mode": {
    "name": "ipython",
    "version": 3
   },
   "file_extension": ".py",
   "mimetype": "text/x-python",
   "name": "python",
   "nbconvert_exporter": "python",
   "pygments_lexer": "ipython3",
   "version": "3.10.2"
  },
  "orig_nbformat": 4
 },
 "nbformat": 4,
 "nbformat_minor": 2
}
