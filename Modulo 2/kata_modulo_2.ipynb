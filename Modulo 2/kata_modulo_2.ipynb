{
 "cells": [
  {
   "cell_type": "markdown",
   "metadata": {},
   "source": [
    "# Kata del Módulo 2 "
   ]
  },
  {
   "cell_type": "markdown",
   "metadata": {},
   "source": [
    "Creación del Entorno Virtual\n",
    "\n",
    "    D:\\mis cosas\\Launch X\\Primera Mision\\Modulo 2>py -m venv env"
   ]
  },
  {
   "cell_type": "markdown",
   "metadata": {},
   "source": [
    "Activación del Entorno Virtual\n",
    "\n",
    "    D:\\mis cosas\\Launch X\\Primera Mision\\Modulo 2>env\\Scripts\\activate\n",
    "    (env) D:\\mis cosas\\Launch X\\Primera Mision\\Modulo 2>pip install python-dateutil"
   ]
  },
  {
   "cell_type": "markdown",
   "metadata": {},
   "source": [
    "Instalación de Python en el Entorno Virtual\n",
    "\n",
    "    (env) D:\\mis cosas\\Launch X\\Primera Mision\\Modulo 2>pip install python-dateutil\n",
    "\n",
    "    Collecting python-dateutil\n",
    "\n",
    "    Downloading python_dateutil-2.8.2-py2.py3-none-any.whl (247 kB)\n",
    "        |████████████████████████████████| 247 kB 145 kB/s\n",
    "    \n",
    "    Collecting six>=1.5\n",
    "\n",
    "    Downloading six-1.16.0-py2.py3-none-any.whl (11 kB)\n",
    "    \n",
    "    Installing collected packages: six, python-dateutil\n",
    "    \n",
    "    Successfully installed python-dateutil-2.8.2 six-1.16.\n",
    "\n",
    "Validación de la intalación de Python\n",
    "\n",
    "    (env) D:\\mis cosas\\Launch X\\Primera Mision\\Modulo 2>pip install python-dateutil\n",
    "    \n",
    "    Requirement already satisfied: python-dateutil in d:\\mis cosas\\launch x\\primera mision\\modulo \n",
    "    2\\env\\lib\\site-packages (2.8.2)\n",
    "    \n",
    "    Requirement already satisfied: six>=1.5 in d:\\mis cosas\\launch x\\primera mision\\modulo 2\\env\\lib\\site-packages (from python-dateutil) (1.16.0)"
   ]
  },
  {
   "cell_type": "markdown",
   "metadata": {},
   "source": [
    "\n",
    "Instalación del Módulo pipdate\n",
    "\n",
    "\n",
    "    D:\\mis cosas\\Launch X\\Primera Mision\\Modulo 2>pip install pipdate\n",
    "\n",
    "    Collecting pipdate\n",
    "\n",
    "      Downloading pipdate-0.5.5-py3-none-any.whl (18 kB)\n",
    "\n",
    "    Collecting appdirs\n",
    "\n",
    "      Downloading appdirs-1.4.4-py2.py3-none-any.whl (9.6 kB)\n",
    "\n",
    "    Collecting requests\n",
    "\n",
    "      Downloading requests-2.27.1-py2.py3-none-any.whl (63 kB) |████████████████████████████████| 63 kB 353 kB/s\n",
    "      \n",
    "    Collecting rich\n",
    "      Downloading rich-11.2.0-py3-none-any.whl (217 kB) |████████████████████████████████| 217 kB 656 kB/s\n",
    "\n",
    "    Requirement already satisfied: setuptools in c:\\program files\\windowsapps\\pythonsoftwarefoundation.python.3.10_3.10.752.0_x64__qbz5n2kfra8p0\\lib\\site-packages (from pipdate) (58.1.0)\n",
    "\n",
    "    Collecting idna<4,>=2.5\n",
    "      Downloading idna-3.3-py3-none-any.whl (61 kB) |████████████████████████████████| 61 kB 2.0 MB/s\n",
    "    \n",
    "    Collecting urllib3<1.27,>=1.21.1\n",
    "      Downloading urllib3-1.26.8-py2.py3-none-any.whl (138 kB) |████████████████████████████████| 138 kB 3.3 MB/s\n",
    "    \n",
    "    Collecting charset-normalizer~=2.0.0\n",
    "      Downloading charset_normalizer-2.0.11-py3-none-any.whl (39 kB) \n",
    "    \n",
    "    Collecting certifi>=2017.4.17\n",
    "    Downloading certifi-2021.10.8-py2.py3-none-any.whl (149 kB) |████████████████████████████████| 149 kB 3.3 MB/s\n",
    "\n",
    "    Collecting commonmark<0.10.0,>=0.9.0\n",
    "    Downloading commonmark-0.9.1-py2.py3-none-any.whl (51 kB) |████████████████████████████████| 51 kB 1.6 MB/s\n",
    "\n",
    "    Requirement already satisfied: pygments<3.0.0,>=2.6.0 in c:\\users\\sbm ti\\appdata\\local\\packages\\pythonsoftwarefoundation.python.3.10_qbz5n2kfra8p0\\localcache\\local-packages\\python310\\site-packages (from rich->pipdate) (2.11.2)\n",
    "\n",
    "    Requirement already satisfied: colorama<0.5.0,>=0.4.0 in c:\\users\\sbm ti\\appdata\\local\\packages\\pythonsoftwarefoundation.python.3.10_qbz5n2kfra8p0\\localcache\\local-packages\\python310\\site-packages (from rich->pipdate) (0.4.4)"
   ]
  },
  {
   "cell_type": "markdown",
   "metadata": {},
   "source": [
    "Ejecucion de un programa dentro del entorno\n",
    "\n",
    "    (env) D:\\mis cosas\\Launch X\\Primera Mision\\Modulo 2>env\\src\\app.py\n",
    "        2022-02-10 10:20:03.887176\n",
    "        2022-03-17 10:20:03.887176"
   ]
  },
  {
   "cell_type": "markdown",
   "metadata": {},
   "source": [
    "\n",
    "Desactivación del Entorno Virtual\n",
    "\n",
    "    (env) D:\\mis cosas\\Launch X\\Primera Mision\\Modulo 2>deactivate\n",
    "    D:\\mis cosas\\Launch X\\Primera Mision\\Modulo 2>"
   ]
  }
 ],
 "metadata": {
  "language_info": {
   "name": "python"
  },
  "orig_nbformat": 4
 },
 "nbformat": 4,
 "nbformat_minor": 2
}

